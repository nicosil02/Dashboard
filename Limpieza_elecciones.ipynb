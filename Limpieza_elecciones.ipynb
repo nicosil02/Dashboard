{
 "cells": [
  {
   "cell_type": "markdown",
   "metadata": {},
   "source": [
    "## Limpieza de datos\n",
    "\n",
    "- Nicolas Silva\n",
    "- Rosa Huamaní"
   ]
  },
  {
   "cell_type": "markdown",
   "metadata": {},
   "source": [
    "1. Cargamos la data y configuramos"
   ]
  },
  {
   "cell_type": "code",
   "execution_count": 112,
   "metadata": {},
   "outputs": [],
   "source": [
    "import pandas as pd\n",
    "import os\n",
    "import pyreadstat\n",
    "\n",
    "# Configuración del directorio y rutas de los archivos\n",
    "current_dir = os.getcwd()\n",
    "data_folder = os.path.join(current_dir, \"Elecciones\")\n",
    "data_path1 = os.path.join(data_folder, \"elecciones2010distb.dta\")\n",
    "data_path2 = os.path.join(data_folder, \"elecciones2014distb.dta\")\n",
    "data_path3 = os.path.join(data_folder, \"elecciones2018distb.dta\")\n",
    "data_path4 = os.path.join(data_folder, \"ERM2022_Municipal_Distrital.csv\")\n",
    "\n",
    "# Leer archivos Stata (.dta) y extraer solo los DataFrames\n",
    "d10, meta10 = pyreadstat.read_dta(data_path1)\n",
    "d14, meta14 = pyreadstat.read_dta(data_path2)\n",
    "d18, meta18 = pyreadstat.read_dta(data_path3)\n",
    "\n",
    "# Leer archivo CSV con configuración adecuada\n",
    "d22 = pd.read_csv(\n",
    "    data_path4,\n",
    "    sep=\";\",  # Cambia esto si el separador no es \";\"\n",
    "    encoding=\"utf-8\",  # Cambia la codificación si es necesario\n",
    "    on_bad_lines=\"skip\",  # Ignora líneas mal formateadas\n",
    "    engine=\"python\"  # Motor más flexible para leer archivos complejos\n",
    ")\n"
   ]
  },
  {
   "cell_type": "code",
   "execution_count": 113,
   "metadata": {},
   "outputs": [],
   "source": [
    "d10[\"Año\"] = 2010 #Añadimos columna año\n",
    "d14[\"Año\"] = 2014\n",
    "d18[\"Año\"] = 2018\n",
    "d22[\"Año\"] = 2022"
   ]
  },
  {
   "cell_type": "code",
   "execution_count": 114,
   "metadata": {},
   "outputs": [
    {
     "name": "stdout",
     "output_type": "stream",
     "text": [
      "Index(['Eleccin', 'Tipo_Eleccin', 'Regin', 'Provincia', 'Distrito',\n",
      "       'Electores', 'Organizacin_Poltica', 'Votos', 'Ubigeo', 'Votosemitidos',\n",
      "       'Participación', 'Votosválidos', 'Votos_porc', 'Votos_ganador_porc',\n",
      "       'Votos_segundo_porc', 'margvictoria', 'N_Partidos', 'Año'],\n",
      "      dtype='object')\n"
     ]
    }
   ],
   "source": [
    "print(d10.columns)"
   ]
  },
  {
   "cell_type": "code",
   "execution_count": 115,
   "metadata": {},
   "outputs": [
    {
     "name": "stdout",
     "output_type": "stream",
     "text": [
      "Index(['Región', 'Provincia', 'Distrito', 'Electores', 'Participación',\n",
      "       'Votosemitidos', 'OrganizaciónPolítica', 'TipoOrganizaciónPolítica',\n",
      "       'Votos', 'Ubigeo', 'Votosválidos', 'Votos_porc', 'Votos_ganador_porc',\n",
      "       'Votos_segundo_porc', 'margvictoria', 'N_Partidos', 'Año'],\n",
      "      dtype='object')\n"
     ]
    }
   ],
   "source": [
    "print(d14.columns)\n"
   ]
  },
  {
   "cell_type": "code",
   "execution_count": 116,
   "metadata": {},
   "outputs": [
    {
     "name": "stdout",
     "output_type": "stream",
     "text": [
      "Index(['Region', 'Provincia', 'Distrito', 'Electores', 'Participación',\n",
      "       'Votosemitidos', 'OrganizaciónPolítica', 'TipoOrganizaciónPolítica',\n",
      "       'Votos', 'Ubigeo', 'Votosválidos', 'Votos_porc', 'Votos_ganador_porc',\n",
      "       'Votos_segundo_porc', 'margvictoria', 'N_Partidos', 'Año'],\n",
      "      dtype='object')\n"
     ]
    }
   ],
   "source": [
    "print(d18.columns)"
   ]
  },
  {
   "cell_type": "markdown",
   "metadata": {},
   "source": [
    "Región, Provincia, Distrito, Número de partidos, Porcentaje de Ausentismo, Porcentaje de participación"
   ]
  },
  {
   "cell_type": "code",
   "execution_count": 117,
   "metadata": {},
   "outputs": [
    {
     "name": "stdout",
     "output_type": "stream",
     "text": [
      "d10 procesado:\n",
      "    Año    Region    Provincia  Distrito  Electores  Votosemitidos  Ubigeo  \\\n",
      "0  2010  AMAZONAS  CHACHAPOYAS  ASUNCION        234          211.0  010102   \n",
      "1  2010  AMAZONAS  CHACHAPOYAS  ASUNCION        234          211.0  010102   \n",
      "2  2010  AMAZONAS  CHACHAPOYAS  ASUNCION        234          211.0  010102   \n",
      "3  2010  AMAZONAS  CHACHAPOYAS  ASUNCION        234          211.0  010102   \n",
      "4  2010  AMAZONAS  CHACHAPOYAS  ASUNCION        234          211.0  010102   \n",
      "\n",
      "   P_ausentismo  N_Partidos  \n",
      "0      0.098291         3.0  \n",
      "1      0.098291         3.0  \n",
      "2      0.098291         3.0  \n",
      "3      0.098291         3.0  \n",
      "4      0.098291         3.0  \n",
      "\n",
      "d14 procesado:\n",
      "    Año    Region    Provincia  Distrito  Electores  Votosemitidos  Ubigeo  \\\n",
      "0  2014  AMAZONAS  CHACHAPOYAS  ASUNCION        298            280  010102   \n",
      "1  2014  AMAZONAS  CHACHAPOYAS  ASUNCION        298            280  010102   \n",
      "2  2014  AMAZONAS  CHACHAPOYAS  ASUNCION        298            280  010102   \n",
      "3  2014  AMAZONAS  CHACHAPOYAS  ASUNCION        298            280  010102   \n",
      "4  2014  AMAZONAS  CHACHAPOYAS  ASUNCION        298            280  010102   \n",
      "\n",
      "   P_ausentismo  N_Partidos  \n",
      "0      0.060403         4.0  \n",
      "1      0.060403         4.0  \n",
      "2      0.060403         4.0  \n",
      "3      0.060403         4.0  \n",
      "4      0.060403         4.0  \n",
      "\n",
      "d18 procesado:\n",
      "    Año    Region    Provincia  Distrito  Electores  Votosemitidos  Ubigeo  \\\n",
      "0  2018  AMAZONAS  CHACHAPOYAS  ASUNCION        288            267  010102   \n",
      "1  2018  AMAZONAS  CHACHAPOYAS  ASUNCION        288            267  010102   \n",
      "2  2018  AMAZONAS  CHACHAPOYAS  ASUNCION        288            267  010102   \n",
      "3  2018  AMAZONAS  CHACHAPOYAS  ASUNCION        288            267  010102   \n",
      "4  2018  AMAZONAS  CHACHAPOYAS    BALSAS       1012            799  010103   \n",
      "\n",
      "   P_ausentismo  N_Partidos  \n",
      "0      0.072917         2.0  \n",
      "1      0.072917         2.0  \n",
      "2      0.072917         2.0  \n",
      "3      0.072917         2.0  \n",
      "4      0.210474         5.0  \n"
     ]
    }
   ],
   "source": [
    "import pandas as pd\n",
    "\n",
    "def process_election_data(df, year, rename_region=None):\n",
    "    \"\"\"\n",
    "    Procesa una base de datos electoral, corrigiendo el cálculo de P_ausentismo.\n",
    "    \n",
    "    Args:\n",
    "    - df: DataFrame con los datos originales.\n",
    "    - year: Año de la elección (para añadirlo como columna).\n",
    "    - rename_region: Nombre actual de la columna 'Region' a renombrar.\n",
    "    \n",
    "    Returns:\n",
    "    - DataFrame procesado.\n",
    "    \"\"\"\n",
    "    if rename_region:\n",
    "        df = df.rename(columns={rename_region: \"Region\"})\n",
    "    \n",
    "    df['P_ausentismo'] = (df['Electores'] - df['Votosemitidos']) / df['Electores']\n",
    "    df['P_ausentismo'] = df['P_ausentismo'].clip(lower=0, upper=1)  # Limitar a [0, 1]\n",
    "\n",
    "    selected_columns = [\"Año\",\"Region\", \"Provincia\", \"Distrito\", \"Electores\", \"Votosemitidos\",\"Ubigeo\", \"P_ausentismo\", \"N_Partidos\"]\n",
    "    df = df[selected_columns]\n",
    "    \n",
    "    \n",
    "    return df\n",
    "\n",
    "d10_processed = process_election_data(d10, 2010, rename_region=\"Regin\")\n",
    "d14_processed = process_election_data(d14, 2014, rename_region=\"Región\")\n",
    "d18_processed = process_election_data(d18, 2018)  # Sin renombrar\n",
    "\n",
    "print(\"d10 procesado:\")\n",
    "print(d10_processed.head())\n",
    "\n",
    "print(\"\\nd14 procesado:\")\n",
    "print(d14_processed.head())\n",
    "\n",
    "print(\"\\nd18 procesado:\")\n",
    "print(d18_processed.head())\n"
   ]
  },
  {
   "cell_type": "markdown",
   "metadata": {},
   "source": [
    "Consolidamos el merge de las tres datas. Faltaría de la última"
   ]
  },
  {
   "cell_type": "code",
   "execution_count": 118,
   "metadata": {},
   "outputs": [],
   "source": [
    "elecciones_loc = pd.concat([d10_processed, d14_processed, d18_processed], ignore_index=True)"
   ]
  },
  {
   "cell_type": "markdown",
   "metadata": {},
   "source": [
    "Revisamos las variables y cómo se llaman en estas tres datas para transformar la data del 2022"
   ]
  },
  {
   "cell_type": "code",
   "execution_count": 119,
   "metadata": {},
   "outputs": [
    {
     "name": "stdout",
     "output_type": "stream",
     "text": [
      "Index(['Año', 'Region', 'Provincia', 'Distrito', 'Electores', 'Votosemitidos',\n",
      "       'Ubigeo', 'P_ausentismo', 'N_Partidos'],\n",
      "      dtype='object')\n"
     ]
    }
   ],
   "source": [
    "print(elecciones_loc.columns)"
   ]
  },
  {
   "cell_type": "code",
   "execution_count": 120,
   "metadata": {},
   "outputs": [
    {
     "name": "stdout",
     "output_type": "stream",
     "text": [
      "Index(['UBIGEO', 'DEPARTAMENTO', 'PROVINCIA', 'DISTRITO', 'TIPO_ELECCION',\n",
      "       'MESA', 'ESTADO_MESA', 'UBICACION_EN_CEDULA', 'TIPO_AGRUPACION',\n",
      "       'CODIGO_AGRUPACION', 'AGRUPACION_POLITICA', 'VOTOS_OBTENIDOS',\n",
      "       'ELECTORES_HABILES', 'VOTOS_BLANCOS', 'VOTOS_NULOS', 'VOTOS_IMPUG',\n",
      "       'Año'],\n",
      "      dtype='object')\n"
     ]
    }
   ],
   "source": [
    "print(d22.columns)"
   ]
  },
  {
   "cell_type": "code",
   "execution_count": 121,
   "metadata": {},
   "outputs": [],
   "source": [
    "col_drop =[\"VOTOS_NULOS\",\"VOTOS_BLANCOS\",\"VOTOS_IMPUG\",\"CODIGO_AGRUPACION\",\"UBICACION_EN_CEDULA\",\"ESTADO_MESA\",\"MESA\",\"TIPO_ELECCION\"]\n",
    "\n",
    "d22 = d22.drop(columns=col_drop)"
   ]
  },
  {
   "cell_type": "code",
   "execution_count": 122,
   "metadata": {},
   "outputs": [
    {
     "name": "stdout",
     "output_type": "stream",
     "text": [
      "Index(['UBIGEO', 'DEPARTAMENTO', 'PROVINCIA', 'DISTRITO', 'TIPO_AGRUPACION',\n",
      "       'AGRUPACION_POLITICA', 'VOTOS_OBTENIDOS', 'ELECTORES_HABILES', 'Año'],\n",
      "      dtype='object')\n"
     ]
    }
   ],
   "source": [
    "print(d22.columns)"
   ]
  },
  {
   "cell_type": "code",
   "execution_count": 123,
   "metadata": {},
   "outputs": [],
   "source": [
    "d22.columns = [\"Ubigeo\",\"Region\",\"Provincia\",\"Distrito\",\"Tipo_agrupacion\",\"Agrupacion\",\"Votos\",\"Electores\",\"Año\"]"
   ]
  },
  {
   "cell_type": "code",
   "execution_count": 126,
   "metadata": {},
   "outputs": [
    {
     "name": "stdout",
     "output_type": "stream",
     "text": [
      "      Region    Provincia  Distrito  Ubigeo  Votosemitidos  Electores  \\\n",
      "0   AMAZONAS  CHACHAPOYAS  ASUNCION   10102          267.0      170.0   \n",
      "4   AMAZONAS  CHACHAPOYAS    BALSAS   10103          538.0      264.0   \n",
      "8   AMAZONAS  CHACHAPOYAS    BALSAS   10103          538.0      265.0   \n",
      "20  AMAZONAS  CHACHAPOYAS     CHETO   10104          514.0      214.0   \n",
      "23  AMAZONAS  CHACHAPOYAS     CHETO   10104          514.0      215.0   \n",
      "\n",
      "    N_Partidos  P_ausentismo   Año  \n",
      "0            2      0.392647  2022  \n",
      "4            4      0.127044  2022  \n",
      "8            4      0.127044  2022  \n",
      "20           3      0.266046  2022  \n",
      "23           3      0.266046  2022  \n"
     ]
    }
   ],
   "source": [
    "# Agregar la columna de Año al DataFrame\n",
    "d22[\"Año\"] = 2022  # Asegúrate de asignar el año correspondiente\n",
    "\n",
    "# Crear la columna de partidos/movimientos\n",
    "d22[\"Es_Partido_Movimiento\"] = d22[\"Tipo_agrupacion\"].str.contains(\n",
    "    \"PARTIDO POLÍTICO|MOVIMIENTO REGIONAL\", case=False, regex=True\n",
    ")\n",
    "\n",
    "# Calcular el número de partidos/movimientos únicos por distrito\n",
    "partidos_movimientos_por_distrito = (\n",
    "    d22[d22[\"Es_Partido_Movimiento\"]]\n",
    "    .groupby([\"Region\", \"Provincia\", \"Distrito\", \"Ubigeo\"])[\"Agrupacion\"]\n",
    "    .nunique()\n",
    "    .reset_index(name=\"N_Partidos\")  \n",
    ")\n",
    "\n",
    "# Calcular el total de votos emitidos por distrito\n",
    "total_votos_por_distrito = (\n",
    "    d22.groupby([\"Region\", \"Provincia\", \"Distrito\", \"Ubigeo\"])[\"Votos\"]\n",
    "    .sum()\n",
    "    .reset_index(name=\"Votosemitidos\")\n",
    ")\n",
    "\n",
    "# Calcular la proporción de votos respecto a electores\n",
    "d22[\"Proporcion_Votos_Electores\"] = d22[\"Votos\"] / d22[\"Electores\"]\n",
    "\n",
    "# Calcular la proporción promedio por distrito\n",
    "proporcion_por_distrito = (\n",
    "    d22.groupby([\"Region\", \"Provincia\", \"Distrito\", \"Ubigeo\"])[\"Proporcion_Votos_Electores\"]\n",
    "    .mean()\n",
    "    .reset_index(name=\"P_ausentismo\")\n",
    ")\n",
    "\n",
    "# Unir los resultados al DataFrame original\n",
    "d22_resultado = (\n",
    "    d22.merge(partidos_movimientos_por_distrito, on=[\"Region\", \"Provincia\", \"Distrito\", \"Ubigeo\"], how=\"left\")\n",
    "       .merge(total_votos_por_distrito, on=[\"Region\", \"Provincia\", \"Distrito\", \"Ubigeo\"], how=\"left\")\n",
    "       .merge(proporcion_por_distrito, on=[\"Region\", \"Provincia\", \"Distrito\", \"Ubigeo\"], how=\"left\")\n",
    ")\n",
    "\n",
    "# Filtrar solo las columnas relevantes, incluyendo `Año`\n",
    "d22_resultado = d22_resultado[\n",
    "    [\"Region\", \"Provincia\", \"Distrito\", \"Ubigeo\", \"Votosemitidos\", \"Electores\", \"N_Partidos\", \"P_ausentismo\", \"Año\"]\n",
    "].drop_duplicates()\n",
    "\n",
    "# Mostrar el resultado\n",
    "print(d22_resultado.head())\n"
   ]
  },
  {
   "cell_type": "code",
   "execution_count": 127,
   "metadata": {},
   "outputs": [
    {
     "name": "stdout",
     "output_type": "stream",
     "text": [
      "     Region    Provincia  Distrito Ubigeo  Votosemitidos  Electores  \\\n",
      "0  AMAZONAS  CHACHAPOYAS  ASUNCION  10102          267.0      170.0   \n",
      "1  AMAZONAS  CHACHAPOYAS    BALSAS  10103          538.0      264.0   \n",
      "2  AMAZONAS  CHACHAPOYAS    BALSAS  10103          538.0      265.0   \n",
      "3  AMAZONAS  CHACHAPOYAS     CHETO  10104          514.0      214.0   \n",
      "4  AMAZONAS  CHACHAPOYAS     CHETO  10104          514.0      215.0   \n",
      "\n",
      "   N_Partidos  P_ausentismo   Año  \n",
      "0         2.0      0.392647  2022  \n",
      "1         4.0      0.127044  2022  \n",
      "2         4.0      0.127044  2022  \n",
      "3         3.0      0.266046  2022  \n",
      "4         3.0      0.266046  2022  \n",
      "<class 'pandas.core.frame.DataFrame'>\n",
      "RangeIndex: 50818 entries, 0 to 50817\n",
      "Data columns (total 9 columns):\n",
      " #   Column         Non-Null Count  Dtype  \n",
      "---  ------         --------------  -----  \n",
      " 0   Region         50818 non-null  object \n",
      " 1   Provincia      50818 non-null  object \n",
      " 2   Distrito       50818 non-null  object \n",
      " 3   Ubigeo         50818 non-null  object \n",
      " 4   Votosemitidos  50818 non-null  float64\n",
      " 5   Electores      50816 non-null  float64\n",
      " 6   N_Partidos     50818 non-null  float64\n",
      " 7   P_ausentismo   50818 non-null  float64\n",
      " 8   Año            50818 non-null  int64  \n",
      "dtypes: float64(4), int64(1), object(4)\n",
      "memory usage: 3.5+ MB\n",
      "None\n"
     ]
    }
   ],
   "source": [
    "# Unir los DataFrames\n",
    "data_combinada = pd.concat([d22_resultado, elecciones_loc], ignore_index=True)\n",
    "\n",
    "# Verificar el resultado\n",
    "print(data_combinada.head())\n",
    "print(data_combinada.info())  # Verificar número de filas y columnas\n"
   ]
  },
  {
   "cell_type": "code",
   "execution_count": 128,
   "metadata": {},
   "outputs": [
    {
     "data": {
      "text/html": [
       "<div>\n",
       "<style scoped>\n",
       "    .dataframe tbody tr th:only-of-type {\n",
       "        vertical-align: middle;\n",
       "    }\n",
       "\n",
       "    .dataframe tbody tr th {\n",
       "        vertical-align: top;\n",
       "    }\n",
       "\n",
       "    .dataframe thead th {\n",
       "        text-align: right;\n",
       "    }\n",
       "</style>\n",
       "<table border=\"1\" class=\"dataframe\">\n",
       "  <thead>\n",
       "    <tr style=\"text-align: right;\">\n",
       "      <th></th>\n",
       "      <th>Region</th>\n",
       "      <th>Provincia</th>\n",
       "      <th>Distrito</th>\n",
       "      <th>Ubigeo</th>\n",
       "      <th>Votosemitidos</th>\n",
       "      <th>Electores</th>\n",
       "      <th>N_Partidos</th>\n",
       "      <th>P_ausentismo</th>\n",
       "      <th>Año</th>\n",
       "    </tr>\n",
       "  </thead>\n",
       "  <tbody>\n",
       "    <tr>\n",
       "      <th>0</th>\n",
       "      <td>AMAZONAS</td>\n",
       "      <td>CHACHAPOYAS</td>\n",
       "      <td>ASUNCION</td>\n",
       "      <td>10102</td>\n",
       "      <td>267.0</td>\n",
       "      <td>170.0</td>\n",
       "      <td>2.0</td>\n",
       "      <td>0.392647</td>\n",
       "      <td>2022</td>\n",
       "    </tr>\n",
       "    <tr>\n",
       "      <th>1</th>\n",
       "      <td>AMAZONAS</td>\n",
       "      <td>CHACHAPOYAS</td>\n",
       "      <td>BALSAS</td>\n",
       "      <td>10103</td>\n",
       "      <td>538.0</td>\n",
       "      <td>264.0</td>\n",
       "      <td>4.0</td>\n",
       "      <td>0.127044</td>\n",
       "      <td>2022</td>\n",
       "    </tr>\n",
       "    <tr>\n",
       "      <th>2</th>\n",
       "      <td>AMAZONAS</td>\n",
       "      <td>CHACHAPOYAS</td>\n",
       "      <td>BALSAS</td>\n",
       "      <td>10103</td>\n",
       "      <td>538.0</td>\n",
       "      <td>265.0</td>\n",
       "      <td>4.0</td>\n",
       "      <td>0.127044</td>\n",
       "      <td>2022</td>\n",
       "    </tr>\n",
       "    <tr>\n",
       "      <th>3</th>\n",
       "      <td>AMAZONAS</td>\n",
       "      <td>CHACHAPOYAS</td>\n",
       "      <td>CHETO</td>\n",
       "      <td>10104</td>\n",
       "      <td>514.0</td>\n",
       "      <td>214.0</td>\n",
       "      <td>3.0</td>\n",
       "      <td>0.266046</td>\n",
       "      <td>2022</td>\n",
       "    </tr>\n",
       "    <tr>\n",
       "      <th>4</th>\n",
       "      <td>AMAZONAS</td>\n",
       "      <td>CHACHAPOYAS</td>\n",
       "      <td>CHETO</td>\n",
       "      <td>10104</td>\n",
       "      <td>514.0</td>\n",
       "      <td>215.0</td>\n",
       "      <td>3.0</td>\n",
       "      <td>0.266046</td>\n",
       "      <td>2022</td>\n",
       "    </tr>\n",
       "    <tr>\n",
       "      <th>...</th>\n",
       "      <td>...</td>\n",
       "      <td>...</td>\n",
       "      <td>...</td>\n",
       "      <td>...</td>\n",
       "      <td>...</td>\n",
       "      <td>...</td>\n",
       "      <td>...</td>\n",
       "      <td>...</td>\n",
       "      <td>...</td>\n",
       "    </tr>\n",
       "    <tr>\n",
       "      <th>50813</th>\n",
       "      <td>UCAYALI</td>\n",
       "      <td>PADRE ABAD</td>\n",
       "      <td>ALEXANDER VON HUMBOLDT</td>\n",
       "      <td>250305</td>\n",
       "      <td>2429.0</td>\n",
       "      <td>2837.0</td>\n",
       "      <td>10.0</td>\n",
       "      <td>0.143814</td>\n",
       "      <td>2018</td>\n",
       "    </tr>\n",
       "    <tr>\n",
       "      <th>50814</th>\n",
       "      <td>UCAYALI</td>\n",
       "      <td>PADRE ABAD</td>\n",
       "      <td>ALEXANDER VON HUMBOLDT</td>\n",
       "      <td>250305</td>\n",
       "      <td>2429.0</td>\n",
       "      <td>2837.0</td>\n",
       "      <td>10.0</td>\n",
       "      <td>0.143814</td>\n",
       "      <td>2018</td>\n",
       "    </tr>\n",
       "    <tr>\n",
       "      <th>50815</th>\n",
       "      <td>UCAYALI</td>\n",
       "      <td>PADRE ABAD</td>\n",
       "      <td>ALEXANDER VON HUMBOLDT</td>\n",
       "      <td>250305</td>\n",
       "      <td>2429.0</td>\n",
       "      <td>2837.0</td>\n",
       "      <td>10.0</td>\n",
       "      <td>0.143814</td>\n",
       "      <td>2018</td>\n",
       "    </tr>\n",
       "    <tr>\n",
       "      <th>50816</th>\n",
       "      <td>UCAYALI</td>\n",
       "      <td>PADRE ABAD</td>\n",
       "      <td>ALEXANDER VON HUMBOLDT</td>\n",
       "      <td>250305</td>\n",
       "      <td>2429.0</td>\n",
       "      <td>2837.0</td>\n",
       "      <td>10.0</td>\n",
       "      <td>0.143814</td>\n",
       "      <td>2018</td>\n",
       "    </tr>\n",
       "    <tr>\n",
       "      <th>50817</th>\n",
       "      <td>UCAYALI</td>\n",
       "      <td>PADRE ABAD</td>\n",
       "      <td>ALEXANDER VON HUMBOLDT</td>\n",
       "      <td>250305</td>\n",
       "      <td>2429.0</td>\n",
       "      <td>2837.0</td>\n",
       "      <td>10.0</td>\n",
       "      <td>0.143814</td>\n",
       "      <td>2018</td>\n",
       "    </tr>\n",
       "  </tbody>\n",
       "</table>\n",
       "<p>50816 rows × 9 columns</p>\n",
       "</div>"
      ],
      "text/plain": [
       "         Region    Provincia                Distrito  Ubigeo  Votosemitidos  \\\n",
       "0      AMAZONAS  CHACHAPOYAS                ASUNCION   10102          267.0   \n",
       "1      AMAZONAS  CHACHAPOYAS                  BALSAS   10103          538.0   \n",
       "2      AMAZONAS  CHACHAPOYAS                  BALSAS   10103          538.0   \n",
       "3      AMAZONAS  CHACHAPOYAS                   CHETO   10104          514.0   \n",
       "4      AMAZONAS  CHACHAPOYAS                   CHETO   10104          514.0   \n",
       "...         ...          ...                     ...     ...            ...   \n",
       "50813   UCAYALI   PADRE ABAD  ALEXANDER VON HUMBOLDT  250305         2429.0   \n",
       "50814   UCAYALI   PADRE ABAD  ALEXANDER VON HUMBOLDT  250305         2429.0   \n",
       "50815   UCAYALI   PADRE ABAD  ALEXANDER VON HUMBOLDT  250305         2429.0   \n",
       "50816   UCAYALI   PADRE ABAD  ALEXANDER VON HUMBOLDT  250305         2429.0   \n",
       "50817   UCAYALI   PADRE ABAD  ALEXANDER VON HUMBOLDT  250305         2429.0   \n",
       "\n",
       "       Electores  N_Partidos  P_ausentismo   Año  \n",
       "0          170.0         2.0      0.392647  2022  \n",
       "1          264.0         4.0      0.127044  2022  \n",
       "2          265.0         4.0      0.127044  2022  \n",
       "3          214.0         3.0      0.266046  2022  \n",
       "4          215.0         3.0      0.266046  2022  \n",
       "...          ...         ...           ...   ...  \n",
       "50813     2837.0        10.0      0.143814  2018  \n",
       "50814     2837.0        10.0      0.143814  2018  \n",
       "50815     2837.0        10.0      0.143814  2018  \n",
       "50816     2837.0        10.0      0.143814  2018  \n",
       "50817     2837.0        10.0      0.143814  2018  \n",
       "\n",
       "[50816 rows x 9 columns]"
      ]
     },
     "execution_count": 128,
     "metadata": {},
     "output_type": "execute_result"
    }
   ],
   "source": [
    "data_combinada.dropna()"
   ]
  },
  {
   "cell_type": "code",
   "execution_count": 129,
   "metadata": {},
   "outputs": [],
   "source": [
    "data_combinada.to_csv(\"elecciones_limpio.csv\", index=False, encoding =\"utf-8\")"
   ]
  }
 ],
 "metadata": {
  "kernelspec": {
   "display_name": "Python 3",
   "language": "python",
   "name": "python3"
  },
  "language_info": {
   "codemirror_mode": {
    "name": "ipython",
    "version": 3
   },
   "file_extension": ".py",
   "mimetype": "text/x-python",
   "name": "python",
   "nbconvert_exporter": "python",
   "pygments_lexer": "ipython3",
   "version": "3.12.5"
  }
 },
 "nbformat": 4,
 "nbformat_minor": 2
}
